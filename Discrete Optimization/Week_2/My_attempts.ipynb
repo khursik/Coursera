{
 "cells": [
  {
   "cell_type": "code",
   "execution_count": 1,
   "metadata": {},
   "outputs": [],
   "source": [
    "import numpy as np"
   ]
  },
  {
   "cell_type": "code",
   "execution_count": 4,
   "metadata": {},
   "outputs": [
    {
     "ename": "NameError",
     "evalue": "name 'capacity' is not defined",
     "output_type": "error",
     "traceback": [
      "\u001b[1;31m---------------------------------------------------------------------------\u001b[0m",
      "\u001b[1;31mNameError\u001b[0m                                 Traceback (most recent call last)",
      "\u001b[1;32m<ipython-input-4-adebedf1ab35>\u001b[0m in \u001b[0;36m<module>\u001b[1;34m\u001b[0m\n\u001b[1;32m----> 1\u001b[1;33m \u001b[0mmatrix\u001b[0m \u001b[1;33m=\u001b[0m \u001b[0mnp\u001b[0m\u001b[1;33m.\u001b[0m\u001b[0mzeros\u001b[0m\u001b[1;33m(\u001b[0m\u001b[1;33m(\u001b[0m\u001b[0mcapacity\u001b[0m\u001b[1;33m+\u001b[0m\u001b[1;36m1\u001b[0m\u001b[1;33m,\u001b[0m \u001b[0mitem_count\u001b[0m\u001b[1;33m+\u001b[0m\u001b[1;36m1\u001b[0m\u001b[1;33m)\u001b[0m\u001b[1;33m)\u001b[0m\u001b[1;33m\u001b[0m\u001b[1;33m\u001b[0m\u001b[0m\n\u001b[0m",
      "\u001b[1;31mNameError\u001b[0m: name 'capacity' is not defined"
     ]
    }
   ],
   "source": [
    "import numpy as np\n",
    "from numba import jit,uint32,int32\n",
    "\n",
    "def build_opt_table(opt_table,v,w):\n",
    "    j = opt_table.shape[0]-1\n",
    "    k = opt_table.shape[1]-1\n",
    "    for j in range(j+1):\n",
    "        for k in range(k+1):\n",
    "            if j == 0:\n",
    "                opt_table[j,k] = 0\n",
    "            elif w[j-1] <= k:\n",
    "                opt_table[j,k] = max(opt_table[j-1,k],v[j-1]+opt_table[j-1,k-w[j-1]])\n",
    "            else:\n",
    "                opt_table[j,k] = opt_table[j-1,k]\n",
    "    return opt_table\n",
    "\n",
    "def traceback(opt_table,j,k,w):\n",
    "    taken = []\n",
    "    for j in reversed(xrange(j+1)):\n",
    "        if opt_table[j,k] == opt_table[j-1,k]:\n",
    "            taken.append(0)\n",
    "        else:\n",
    "            taken.append(1)\n",
    "            k -= w[j-1]\n",
    "    taken = taken[::-1]\n",
    "    del taken[0]\n",
    "    return taken\n",
    "\n",
    "def solveIt(inputData):\n",
    "    # Modify this code to run your optimization algorithm\n",
    "\n",
    "    # parse the input\n",
    "    lines = inputData.split('\\n')\n",
    "\n",
    "    firstLine = lines[0].split()\n",
    "    j = int(firstLine[0])\n",
    "    k = int(firstLine[1])\n",
    "\n",
    "    v = []\n",
    "    w = []\n",
    "\n",
    "    for i in range(1, j+1):\n",
    "        line = lines[i]\n",
    "        parts = line.split()\n",
    "\n",
    "        v.append(int(parts[0]))\n",
    "        w.append(int(parts[1]))\n",
    "\n",
    "    v = np.array(v,dtype=np.int32)\n",
    "    w = np.array(w,dtype=np.int32)\n",
    "    opt_table = np.zeros((j+1,k+1),dtype=np.int32)\n",
    "    build_opt_table_fast = jit(int32[:,:](int32[:,:],int32[:],int32[:]))(build_opt_table)\n",
    "    opt_table = build_opt_table_fast(opt_table,v,w)\n",
    "    value = int(opt_table[j,k])\n",
    "    taken = traceback(opt_table,j,k,w)\n",
    "\n",
    "    # prepare the solution in the specified output format\n",
    "    outputData = str(value) + ' ' + str(0) + '\\n'\n",
    "    outputData += ' '.join(map(str, taken))\n",
    "    return outputData\n",
    "\n",
    "\n",
    "import sys\n",
    "\n",
    "if __name__ == '__main__':\n",
    "    if len(sys.argv) > 1:\n",
    "        fileLocation = sys.argv[1].strip()\n",
    "        inputDataFile = open(fileLocation, 'r')\n",
    "        inputData = ''.join(inputDataFile.readlines())\n",
    "        inputDataFile.close()\n",
    "        print solveIt(inputData)\n",
    "    else:\n",
    "        print 'This test requires an input file.  Please select one from the data directory. (i.e. python solver.py ./data/ks_4_0)'"
   ]
  }
 ],
 "metadata": {
  "kernelspec": {
   "display_name": "Python 3",
   "language": "python",
   "name": "python3"
  },
  "language_info": {
   "codemirror_mode": {
    "name": "ipython",
    "version": 3
   },
   "file_extension": ".py",
   "mimetype": "text/x-python",
   "name": "python",
   "nbconvert_exporter": "python",
   "pygments_lexer": "ipython3",
   "version": "3.7.4"
  }
 },
 "nbformat": 4,
 "nbformat_minor": 2
}
