{
 "cells": [
  {
   "cell_type": "markdown",
   "metadata": {},
   "source": [
    "# Запись в файл "
   ]
  },
  {
   "cell_type": "code",
   "execution_count": null,
   "metadata": {
    "collapsed": true
   },
   "outputs": [],
   "source": [
    "#запись строки в файл, открытый в режиме 'w'\n",
    "file_obj = open('file_to_write_in.txt', 'w')\n",
    "string = 'строка для записи в файл\\n'\n",
    "file_obj.write(string)\n",
    "file_obj.close()"
   ]
  },
  {
   "cell_type": "code",
   "execution_count": null,
   "metadata": {},
   "outputs": [],
   "source": [
    "!cat file_to_write_in.txt"
   ]
  },
  {
   "cell_type": "code",
   "execution_count": null,
   "metadata": {},
   "outputs": [],
   "source": [
    "#аналог предыдущей команды для пользователей windows\n",
    "!more file_to_write_in.txt"
   ]
  },
  {
   "cell_type": "code",
   "execution_count": null,
   "metadata": {
    "collapsed": true
   },
   "outputs": [],
   "source": [
    "#запись строки в файл, открытый в режиме 'w'\n",
    "file_obj = open('file_to_write_in.txt', 'w')\n",
    "second_string = 'вторая строка для записи в файл\\n'\n",
    "file_obj.write(second_string)\n",
    "file_obj.close()"
   ]
  },
  {
   "cell_type": "code",
   "execution_count": null,
   "metadata": {},
   "outputs": [],
   "source": [
    "!cat file_to_write_in.txt"
   ]
  },
  {
   "cell_type": "code",
   "execution_count": null,
   "metadata": {},
   "outputs": [],
   "source": [
    "#аналог для пользователей windows\n",
    "!more file_to_write_in.txt"
   ]
  },
  {
   "cell_type": "code",
   "execution_count": null,
   "metadata": {
    "collapsed": true
   },
   "outputs": [],
   "source": [
    "#запись строки в файл, открытый в режиме 'a'\n",
    "file_obj = open('file_to_write_in.txt', 'a')\n",
    "second_string = 'третья строка для записи в файл\\n'\n",
    "file_obj.write(second_string)\n",
    "file_obj.close()"
   ]
  },
  {
   "cell_type": "code",
   "execution_count": null,
   "metadata": {
    "collapsed": true
   },
   "outputs": [],
   "source": [
    "#создание списка чисел от 1 до 10\n",
    "digits = range(1,11)"
   ]
  },
  {
   "cell_type": "code",
   "execution_count": null,
   "metadata": {},
   "outputs": [],
   "source": [
    "digits"
   ]
  },
  {
   "cell_type": "code",
   "execution_count": null,
   "metadata": {
    "collapsed": true
   },
   "outputs": [],
   "source": [
    "#запись в файл списка строк с помощью функции writelines\n",
    "file_obj = open('second_file_for_write_in.txt', 'w')\n",
    "file_obj.writelines(digit + '\\n' for digit in map(str, digits))\n",
    "file_obj.close()"
   ]
  },
  {
   "cell_type": "code",
   "execution_count": 1,
   "metadata": {},
   "outputs": [
    {
     "ename": "SyntaxError",
     "evalue": "invalid syntax (<ipython-input-1-bc8e8ba3abd5>, line 3)",
     "output_type": "error",
     "traceback": [
      "\u001b[1;36m  File \u001b[1;32m\"<ipython-input-1-bc8e8ba3abd5>\"\u001b[1;36m, line \u001b[1;32m3\u001b[0m\n\u001b[1;33m    print file_obj.read()\u001b[0m\n\u001b[1;37m                 ^\u001b[0m\n\u001b[1;31mSyntaxError\u001b[0m\u001b[1;31m:\u001b[0m invalid syntax\n"
     ]
    }
   ],
   "source": [
    "#вывод на экран содержимого файла\n",
    "with open('second_file_for_write_in.txt', 'r') as file_obj:\n",
    "    print file_obj.read()"
   ]
  },
  {
   "cell_type": "code",
   "execution_count": 4,
   "metadata": {},
   "outputs": [
    {
     "data": {
      "text/plain": [
       "str"
      ]
     },
     "execution_count": 4,
     "metadata": {},
     "output_type": "execute_result"
    }
   ],
   "source": [
    " x = \" \".join([str(x ** 2 % 2) for x in range(4)])\n",
    "type(x)"
   ]
  }
 ],
 "metadata": {
  "kernelspec": {
   "display_name": "Python 3",
   "language": "python",
   "name": "python3"
  },
  "language_info": {
   "codemirror_mode": {
    "name": "ipython",
    "version": 3
   },
   "file_extension": ".py",
   "mimetype": "text/x-python",
   "name": "python",
   "nbconvert_exporter": "python",
   "pygments_lexer": "ipython3",
   "version": "3.7.4"
  }
 },
 "nbformat": 4,
 "nbformat_minor": 1
}
