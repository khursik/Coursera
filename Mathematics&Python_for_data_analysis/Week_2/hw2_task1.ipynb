{
 "cells": [
  {
   "cell_type": "markdown",
   "metadata": {},
   "source": [
    "# Задача 1: сравнение предложений"
   ]
  },
  {
   "cell_type": "code",
   "execution_count": 86,
   "metadata": {},
   "outputs": [],
   "source": [
    "import re\n",
    "import numpy as np\n",
    "from scipy.spatial import distance"
   ]
  },
  {
   "cell_type": "markdown",
   "metadata": {},
   "source": [
    "# 2.\n",
    "Каждая строка в файле соответствует одному предложению. Считайте их, приведите каждую к нижнему регистру с помощью строковой функции lower()."
   ]
  },
  {
   "cell_type": "code",
   "execution_count": 87,
   "metadata": {},
   "outputs": [
    {
     "name": "stdout",
     "output_type": "stream",
     "text": [
      "in comparison to dogs, cats have not undergone major changes during the domestication process.\n",
      "\n",
      "as cat simply catenates streams of bytes, it can be also used to concatenate binary files, where it will just concatenate sequence of bytes.\n",
      "\n",
      "a common interactive use of cat for a single file is to output the content of a file to standard output.\n",
      "\n",
      "cats can hear sounds too faint or too high in frequency for human ears, such as those made by mice and other small animals.\n",
      "\n",
      "in one, people deliberately tamed cats in a process of artificial selection, as they were useful predators of vermin.\n",
      "\n",
      "the domesticated cat and its closest wild ancestor are both diploid organisms that possess 38 chromosomes and roughly 20,000 genes.\n",
      "\n",
      "domestic cats are similar in size to the other members of the genus felis, typically weighing between 4 and 5 kg (8.8 and 11.0 lb).\n",
      "\n",
      "however, if the output is piped or redirected, cat is unnecessary.\n",
      "\n",
      "cat with one named file is safer where human error is a concern - one wrong use of the default redirection symbol \">\" instead of \"<\" (often adjacent on keyboards) may permanently delete the file you were just needing to read.\n",
      "\n",
      "in terms of legibility, a sequence of commands starting with cat and connected by pipes has a clear left-to-right flow of information.\n",
      "\n",
      "cat command is one of the basic commands that you learned when you started in the unix / linux world.\n",
      "\n",
      "using cat command, the lines received from stdin can be redirected to a new file using redirection symbols.\n",
      "\n",
      "when you type simply cat command without any arguments, it just receives the stdin content and displays it in the stdout.\n",
      "\n",
      "leopard was released on october 26, 2007 as the successor of tiger (version 10.4), and is available in two editions.\n",
      "\n",
      "according to apple, leopard contains over 300 changes and enhancements over its predecessor, mac os x tiger.\n",
      "\n",
      "as of mid 2010, some apple computers have firmware factory installed which will no longer allow installation of mac os x leopard.\n",
      "\n",
      "since apple moved to using intel processors in their computers, the osx86 community has developed and now also allows mac os x tiger and later releases to be installed on non-apple x86-based computers.\n",
      "\n",
      "os x mountain lion was released on july 25, 2012 for purchase and download through apple's mac app store, as part of a switch to releasing os x versions online and every year.\n",
      "\n",
      "apple has released a small patch for the three most recent versions of safari running on os x yosemite, mavericks, and mountain lion.\n",
      "\n",
      "the mountain lion release marks the second time apple has offered an incremental upgrade, rather than releasing a new cat entirely.\n",
      "\n",
      "mac os x mountain lion installs in place, so you won't need to create a separate disk or run the installation off an external drive.\n",
      "\n",
      "the fifth major update to mac os x, leopard, contains such a mountain of features - more than 300 by apple's count.\n",
      "\n"
     ]
    }
   ],
   "source": [
    "file_obj = open('sentences.txt', 'r', encoding='utf-8')\n",
    "for line in file_obj:\n",
    "    print(line.lower())\n",
    "file_obj.close()"
   ]
  },
  {
   "cell_type": "markdown",
   "metadata": {},
   "source": [
    "# 3.\n",
    "Произведите токенизацию, то есть разбиение текстов на слова. Для этого можно воспользоваться регулярным выражением, которое считает разделителем любой символ, не являющийся буквой: re.split('[^a-z]', t). Не забудьте удалить пустые слова после разделения."
   ]
  },
  {
   "cell_type": "code",
   "execution_count": 88,
   "metadata": {},
   "outputs": [
    {
     "name": "stdout",
     "output_type": "stream",
     "text": [
      "['in', 'comparison', 'to', 'dogs', 'cats', 'have', 'not', 'undergone', 'major', 'changes', 'during', 'the', 'domestication', 'process', 'as', 'cat', 'simply', 'catenates', 'streams', 'of', 'bytes', 'it', 'can', 'be', 'also', 'used', 'to', 'concatenate', 'binary', 'files', 'where', 'it', 'will', 'just', 'concatenate', 'sequence', 'of', 'bytes', 'a', 'common', 'interactive', 'use', 'of', 'cat', 'for', 'a', 'single', 'file', 'is', 'to', 'output', 'the', 'content', 'of', 'a', 'file', 'to', 'standard', 'output', 'cats', 'can', 'hear', 'sounds', 'too', 'faint', 'or', 'too', 'high', 'in', 'frequency', 'for', 'human', 'ears', 'such', 'as', 'those', 'made', 'by', 'mice', 'and', 'other', 'small', 'animals', 'in', 'one', 'people', 'deliberately', 'tamed', 'cats', 'in', 'a', 'process', 'of', 'artificial', 'selection', 'as', 'they', 'were', 'useful', 'predators', 'of', 'vermin', 'the', 'domesticated', 'cat', 'and', 'its', 'closest', 'wild', 'ancestor', 'are', 'both', 'diploid', 'organisms', 'that', 'possess', 'chromosomes', 'and', 'roughly', 'genes', 'domestic', 'cats', 'are', 'similar', 'in', 'size', 'to', 'the', 'other', 'members', 'of', 'the', 'genus', 'felis', 'typically', 'weighing', 'between', 'and', 'kg', 'and', 'lb', 'however', 'if', 'the', 'output', 'is', 'piped', 'or', 'redirected', 'cat', 'is', 'unnecessary', 'cat', 'with', 'one', 'named', 'file', 'is', 'safer', 'where', 'human', 'error', 'is', 'a', 'concern', 'one', 'wrong', 'use', 'of', 'the', 'default', 'redirection', 'symbol', 'instead', 'of', 'often', 'adjacent', 'on', 'keyboards', 'may', 'permanently', 'delete', 'the', 'file', 'you', 'were', 'just', 'needing', 'to', 'read', 'in', 'terms', 'of', 'legibility', 'a', 'sequence', 'of', 'commands', 'starting', 'with', 'cat', 'and', 'connected', 'by', 'pipes', 'has', 'a', 'clear', 'left', 'to', 'right', 'flow', 'of', 'information', 'cat', 'command', 'is', 'one', 'of', 'the', 'basic', 'commands', 'that', 'you', 'learned', 'when', 'you', 'started', 'in', 'the', 'unix', 'linux', 'world', 'using', 'cat', 'command', 'the', 'lines', 'received', 'from', 'stdin', 'can', 'be', 'redirected', 'to', 'a', 'new', 'file', 'using', 'redirection', 'symbols', 'when', 'you', 'type', 'simply', 'cat', 'command', 'without', 'any', 'arguments', 'it', 'just', 'receives', 'the', 'stdin', 'content', 'and', 'displays', 'it', 'in', 'the', 'stdout', 'leopard', 'was', 'released', 'on', 'october', 'as', 'the', 'successor', 'of', 'tiger', 'version', 'and', 'is', 'available', 'in', 'two', 'editions', 'according', 'to', 'apple', 'leopard', 'contains', 'over', 'changes', 'and', 'enhancements', 'over', 'its', 'predecessor', 'mac', 'os', 'x', 'tiger', 'as', 'of', 'mid', 'some', 'apple', 'computers', 'have', 'firmware', 'factory', 'installed', 'which', 'will', 'no', 'longer', 'allow', 'installation', 'of', 'mac', 'os', 'x', 'leopard', 'since', 'apple', 'moved', 'to', 'using', 'intel', 'processors', 'in', 'their', 'computers', 'the', 'osx', 'community', 'has', 'developed', 'and', 'now', 'also', 'allows', 'mac', 'os', 'x', 'tiger', 'and', 'later', 'releases', 'to', 'be', 'installed', 'on', 'non', 'apple', 'x', 'based', 'computers', 'os', 'x', 'mountain', 'lion', 'was', 'released', 'on', 'july', 'for', 'purchase', 'and', 'download', 'through', 'apple', 's', 'mac', 'app', 'store', 'as', 'part', 'of', 'a', 'switch', 'to', 'releasing', 'os', 'x', 'versions', 'online', 'and', 'every', 'year', 'apple', 'has', 'released', 'a', 'small', 'patch', 'for', 'the', 'three', 'most', 'recent', 'versions', 'of', 'safari', 'running', 'on', 'os', 'x', 'yosemite', 'mavericks', 'and', 'mountain', 'lion', 'the', 'mountain', 'lion', 'release', 'marks', 'the', 'second', 'time', 'apple', 'has', 'offered', 'an', 'incremental', 'upgrade', 'rather', 'than', 'releasing', 'a', 'new', 'cat', 'entirely', 'mac', 'os', 'x', 'mountain', 'lion', 'installs', 'in', 'place', 'so', 'you', 'won', 't', 'need', 'to', 'create', 'a', 'separate', 'disk', 'or', 'run', 'the', 'installation', 'off', 'an', 'external', 'drive', 'the', 'fifth', 'major', 'update', 'to', 'mac', 'os', 'x', 'leopard', 'contains', 'such', 'a', 'mountain', 'of', 'features', 'more', 'than', 'by', 'apple', 's', 'count']\n"
     ]
    }
   ],
   "source": [
    "file_obj = open('sentences.txt', 'r')\n",
    "a = re.split('[^a-z]', file_obj.read().lower())\n",
    "type(file_obj.read())\n",
    "b = ''\n",
    "b = ';'.join(a)\n",
    "c = b.split(\";\")\n",
    "#print(c)\n",
    "k = 0\n",
    "for i in range(len(c)):\n",
    "    if (c[i-k] == ''):\n",
    "        del c[i-k]\n",
    "        k += 1\n",
    "##print(c)\n",
    "file_obj.close()"
   ]
  },
  {
   "cell_type": "markdown",
   "metadata": {},
   "source": [
    "# 4.\n",
    "Составьте список всех слов, встречающихся в предложениях. Сопоставьте каждому слову индекс от нуля до (d - 1), где d — число различных слов в предложениях. Для этого удобно воспользоваться структурой dict."
   ]
  },
  {
   "cell_type": "code",
   "execution_count": 89,
   "metadata": {},
   "outputs": [
    {
     "name": "stdout",
     "output_type": "stream",
     "text": [
      "{0: 'in', 1: 'comparison', 2: 'to', 3: 'dogs', 4: 'cats', 5: 'have', 6: 'not', 7: 'undergone', 8: 'major', 9: 'changes', 10: 'during', 11: 'the', 12: 'domestication', 13: 'process', 14: 'as', 15: 'cat', 16: 'simply', 17: 'catenates', 18: 'streams', 19: 'of', 20: 'bytes', 21: 'it', 22: 'can', 23: 'be', 24: 'also', 25: 'used', 26: 'concatenate', 27: 'binary', 28: 'files', 29: 'where', 30: 'will', 31: 'just', 32: 'sequence', 33: 'a', 34: 'common', 35: 'interactive', 36: 'use', 37: 'for', 38: 'single', 39: 'file', 40: 'is', 41: 'output', 42: 'content', 43: 'standard', 44: 'hear', 45: 'sounds', 46: 'too', 47: 'faint', 48: 'or', 49: 'high', 50: 'frequency', 51: 'human', 52: 'ears', 53: 'such', 54: 'those', 55: 'made', 56: 'by', 57: 'mice', 58: 'and', 59: 'other', 60: 'small', 61: 'animals', 62: 'one', 63: 'people', 64: 'deliberately', 65: 'tamed', 66: 'artificial', 67: 'selection', 68: 'they', 69: 'were', 70: 'useful', 71: 'predators', 72: 'vermin', 73: 'domesticated', 74: 'its', 75: 'closest', 76: 'wild', 77: 'ancestor', 78: 'are', 79: 'both', 80: 'diploid', 81: 'organisms', 82: 'that', 83: 'possess', 84: 'chromosomes', 85: 'roughly', 86: 'genes', 87: 'domestic', 88: 'similar', 89: 'size', 90: 'members', 91: 'genus', 92: 'felis', 93: 'typically', 94: 'weighing', 95: 'between', 96: 'kg', 97: 'lb', 98: 'however', 99: 'if', 100: 'piped', 101: 'redirected', 102: 'unnecessary', 103: 'with', 104: 'named', 105: 'safer', 106: 'error', 107: 'concern', 108: 'wrong', 109: 'default', 110: 'redirection', 111: 'symbol', 112: 'instead', 113: 'often', 114: 'adjacent', 115: 'on', 116: 'keyboards', 117: 'may', 118: 'permanently', 119: 'delete', 120: 'you', 121: 'needing', 122: 'read', 123: 'terms', 124: 'legibility', 125: 'commands', 126: 'starting', 127: 'connected', 128: 'pipes', 129: 'has', 130: 'clear', 131: 'left', 132: 'right', 133: 'flow', 134: 'information', 135: 'command', 136: 'basic', 137: 'learned', 138: 'when', 139: 'started', 140: 'unix', 141: 'linux', 142: 'world', 143: 'using', 144: 'lines', 145: 'received', 146: 'from', 147: 'stdin', 148: 'new', 149: 'symbols', 150: 'type', 151: 'without', 152: 'any', 153: 'arguments', 154: 'receives', 155: 'displays', 156: 'stdout', 157: 'leopard', 158: 'was', 159: 'released', 160: 'october', 161: 'successor', 162: 'tiger', 163: 'version', 164: 'available', 165: 'two', 166: 'editions', 167: 'according', 168: 'apple', 169: 'contains', 170: 'over', 171: 'enhancements', 172: 'predecessor', 173: 'mac', 174: 'os', 175: 'x', 176: 'mid', 177: 'some', 178: 'computers', 179: 'firmware', 180: 'factory', 181: 'installed', 182: 'which', 183: 'no', 184: 'longer', 185: 'allow', 186: 'installation', 187: 'since', 188: 'moved', 189: 'intel', 190: 'processors', 191: 'their', 192: 'osx', 193: 'community', 194: 'developed', 195: 'now', 196: 'allows', 197: 'later', 198: 'releases', 199: 'non', 200: 'based', 201: 'mountain', 202: 'lion', 203: 'july', 204: 'purchase', 205: 'download', 206: 'through', 207: 's', 208: 'app', 209: 'store', 210: 'part', 211: 'switch', 212: 'releasing', 213: 'versions', 214: 'online', 215: 'every', 216: 'year', 217: 'patch', 218: 'three', 219: 'most', 220: 'recent', 221: 'safari', 222: 'running', 223: 'yosemite', 224: 'mavericks', 225: 'release', 226: 'marks', 227: 'second', 228: 'time', 229: 'offered', 230: 'an', 231: 'incremental', 232: 'upgrade', 233: 'rather', 234: 'than', 235: 'entirely', 236: 'installs', 237: 'place', 238: 'so', 239: 'won', 240: 't', 241: 'need', 242: 'create', 243: 'separate', 244: 'disk', 245: 'run', 246: 'off', 247: 'external', 248: 'drive', 249: 'fifth', 250: 'update', 251: 'features', 252: 'more', 253: 'count'}\n"
     ]
    }
   ],
   "source": [
    "file_obj = open('sentences.txt', 'r')\n",
    "a = re.split('[^a-z]', file_obj.read().lower())\n",
    "type(file_obj.read())\n",
    "b = ';'.join(a)\n",
    "c = b.split(\";\")\n",
    "#print(c)\n",
    "k = 0\n",
    "#удалим пустые слова\n",
    "for i in range(len(c)):\n",
    "    if (c[i-k] == ''):\n",
    "        del c[i-k]\n",
    "        k += 1\n",
    "#удалим лишние слова из списка 'c' и получим новый список 'c2', в котором нет повторяющихся слов.\n",
    "c2 = []\n",
    "for j in range(len(c)):\n",
    "    if (j == 0):\n",
    "        c2.append(c[j])\n",
    "    else:\n",
    "        flag = 0\n",
    "        for i in range(len(c2)):\n",
    "            if (c[j] == c2[i]):\n",
    "                flag = 1\n",
    "            else:\n",
    "                continue\n",
    "        if (flag != 1):\n",
    "            c2.append(c[j])\n",
    "#print(len(c2))\n",
    "#создадим из списка 'c2' словарь 'dict_1'\n",
    "dict_1 = {a: c2[a] for a in range(len(c2))}\n",
    "##print(dict_1)\n",
    "file_obj.close()"
   ]
  },
  {
   "cell_type": "markdown",
   "metadata": {},
   "source": [
    "# 5.\n",
    "Создайте матрицу размера n * d, где n — число предложений. Заполните ее: элемент с индексом (i, j) в этой матрице должен быть равен количеству вхождений j-го слова в i-е предложение. У вас должна получиться матрица размера 22 * 254."
   ]
  },
  {
   "cell_type": "code",
   "execution_count": 90,
   "metadata": {},
   "outputs": [
    {
     "name": "stdout",
     "output_type": "stream",
     "text": [
      "[[1. 1. 1. ... 0. 0. 0.]\n",
      " [0. 0. 1. ... 0. 0. 0.]\n",
      " [0. 0. 2. ... 0. 0. 0.]\n",
      " ...\n",
      " [0. 0. 0. ... 0. 0. 0.]\n",
      " [1. 0. 1. ... 0. 0. 0.]\n",
      " [0. 0. 1. ... 1. 1. 1.]]\n"
     ]
    }
   ],
   "source": [
    "file_obj = open('sentences.txt', 'r')\n",
    "data_list = file_obj.readlines()\n",
    "\n",
    "#for line in data_list: print(line.strip())\n",
    "#создаём матрицу размера 22 * 254, заполненную нулями\n",
    "matrix = np.zeros((len(data_list), len(dict_1)))\n",
    "for n in range(len(data_list)):\n",
    "    for m in range(len(dict_1)):\n",
    "        matrix[n,m] = int(re.split('[^a-z]', data_list[n].lower()).count(dict_1[m]))\n",
    "#print(matrix)\n",
    "file_obj.close()"
   ]
  },
  {
   "cell_type": "markdown",
   "metadata": {},
   "source": [
    "# 6.\n",
    "Найдите косинусное расстояние от предложения в самой первой строке (In comparison to dogs, cats have not undergone...) до всех остальных с помощью функции scipy.spatial.distance.cosine. Какие номера у двух предложений, ближайших к нему по этому расстоянию (строки нумеруются с нуля)? Эти два числа и будут ответами на задание. Само предложение (In comparison to dogs, cats have not undergone... ) имеет индекс 0."
   ]
  },
  {
   "cell_type": "code",
   "execution_count": 92,
   "metadata": {},
   "outputs": [],
   "source": [
    "p = []\n",
    "for n in range(1, len(data_list)):\n",
    "    p.append(distance.cosine(matrix[0], matrix[n]))\n",
    "p_2 = sorted(p)\n",
    "num1 = 0\n",
    "num2 = 0\n",
    "for j in range(len(p)):\n",
    "    if(p_2[0] == p[j]):\n",
    "        num1 = j+1\n",
    "    if(p_2[1] == p[j]):\n",
    "        num2 = j+1"
   ]
  },
  {
   "cell_type": "markdown",
   "metadata": {},
   "source": [
    "# 7.\n",
    "Запишите полученные числа в файл, разделив пробелом. Обратите внимание, что файл должен состоять из одной строки, в конце которой не должно быть переноса. Пример файла с решением вы можете найти в конце задания (submission-1.txt)."
   ]
  },
  {
   "cell_type": "code",
   "execution_count": 97,
   "metadata": {},
   "outputs": [
    {
     "name": "stdout",
     "output_type": "stream",
     "text": [
      "6 4\n"
     ]
    }
   ],
   "source": [
    "file_obj = open('file_to_write_1.txt', 'w')\n",
    "stroka = str(num1) + \" \" + str(num2)\n",
    "print(stroka)\n",
    "stroka = stroka.strip()\n",
    "file_obj.write(stroka)\n",
    "file_obj.close()"
   ]
  }
 ],
 "metadata": {
  "kernelspec": {
   "display_name": "Python 3",
   "language": "python",
   "name": "python3"
  },
  "language_info": {
   "codemirror_mode": {
    "name": "ipython",
    "version": 3
   },
   "file_extension": ".py",
   "mimetype": "text/x-python",
   "name": "python",
   "nbconvert_exporter": "python",
   "pygments_lexer": "ipython3",
   "version": "3.7.4"
  }
 },
 "nbformat": 4,
 "nbformat_minor": 2
}
