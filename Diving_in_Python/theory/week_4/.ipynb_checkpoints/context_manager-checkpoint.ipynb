{
 "cells": [
  {
   "cell_type": "markdown",
   "metadata": {},
   "source": [
    "### Написать контекстный менеджер, который считает и выводит время, проведённое внутри него."
   ]
  },
  {
   "cell_type": "code",
   "execution_count": null,
   "metadata": {},
   "outputs": [],
   "source": [
    "import time\n",
    "class timer():\n",
    "    def __init__(self):\n",
    "        self.start = time.time()\n",
    "        \n",
    "    def __enter__(self):\n",
    "        return\n",
    "\n",
    "    def __exit__(self, *args):\n",
    "        print('Elapsed time:{}'.format(time.time() - self.start))\n",
    "\n",
    "    \n",
    "with timer():\n",
    "    time.sleep(1) #чтобы контекстный менеджер завершился не мгновенно (т.е. спал в течение 1 сек.)"
   ]
  },
  {
   "cell_type": "code",
   "execution_count": 31,
   "metadata": {},
   "outputs": [
    {
     "name": "stdout",
     "output_type": "stream",
     "text": [
      "Current time: 1.0071344375610352\n",
      "Elapsed time: 2.007680892944336\n"
     ]
    }
   ],
   "source": [
    "import time\n",
    "\n",
    "\n",
    "class timer():\n",
    "    def __init__(self):\n",
    "        self.start = time.time()\n",
    "        \n",
    "    def current_time(self):\n",
    "        return time.time() - self.start\n",
    "    \n",
    "    def __enter__(self):\n",
    "        return self\n",
    "\n",
    "    def __exit__(self, *args):\n",
    "        print('Elapsed time: {}'.format(self.current_time()))\n",
    "\n",
    "    \n",
    "with timer() as t:\n",
    "    time.sleep(1) #чтобы контекстный менеджер завершился не мгновенно (т.е. спал в течение 1 сек.)\n",
    "    print('Current time: {}'.format(t.current_time()))\n",
    "    time.sleep(1)"
   ]
  }
 ],
 "metadata": {
  "kernelspec": {
   "display_name": "Python 3.8.3 64-bit",
   "language": "python",
   "name": "python38364bit3456cb6cc02a4cc19cf3bce3da54848f"
  },
  "language_info": {
   "codemirror_mode": {
    "name": "ipython",
    "version": 3
   },
   "file_extension": ".py",
   "mimetype": "text/x-python",
   "name": "python",
   "nbconvert_exporter": "python",
   "pygments_lexer": "ipython3",
   "version": "3.8.5"
  }
 },
 "nbformat": 4,
 "nbformat_minor": 2
}
